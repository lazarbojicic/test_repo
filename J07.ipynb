{
 "cells": [
  {
   "cell_type": "markdown",
   "metadata": {},
   "source": [
    "# Вежба 7. Индексирање и транспоновање табеле\n",
    "\n",
    "У овој вежби ћемо утврдити:\n",
    "\n",
    "1. индексирање табеле ради флексибилнијег приступа елементима табеле;\n",
    "2. рачунање са целим редовима и колонама табеле; и\n",
    "3. транспоновање табеле."
   ]
  },
  {
   "cell_type": "markdown",
   "metadata": {},
   "source": [
    "## 7.1. Индексирање"
   ]
  },
  {
   "cell_type": "markdown",
   "metadata": {},
   "source": [
    "### Задатак.\n",
    "\n",
    "У следећој табели су дати подаци о једној групи деце:\n",
    "\n",
    "| Ime | Pol | Starost | Masa | Visina |\n",
    "|---|---|---|---|---|\n",
    "|      Ana | ž | 13 | 46 | 160 |\n",
    "|    Bojan | m | 14 | 52 | 165 |\n",
    "|    Vlada | m | 13 | 47 | 157 |\n",
    "|  Gordana | ž | 15 | 54 | 165 |\n",
    "|    Dejan | m | 15 | 56 | 163 |\n",
    "|    Đorđe | m | 13 | 45 | 159 |\n",
    "|    Elena | ž | 14 | 49 | 161 |\n",
    "|  Žaklina | ž | 15 | 52 | 164 |\n",
    "|    Zoran | m | 15 | 57 | 167 |\n",
    "|    Ivana | ž | 13 | 45 | 158 |\n",
    "|    Jasna | ž | 14 | 51 | 162 |\n",
    "\n",
    "У ћелији испод се налази мали програм који од ових података прави ефикасну табелу:"
   ]
  },
  {
   "cell_type": "code",
   "execution_count": null,
   "metadata": {},
   "outputs": [],
   "source": [
    "import pandas as pd\n",
    "podaci = [[\"Ana\",     \"ž\", 13, 46, 160],\n",
    "          [\"Bojan\",   \"m\", 14, 52, 165],\n",
    "          [\"Vlada\",   \"m\", 13, 47, 157],\n",
    "          [\"Gordana\", \"ž\", 15, 54, 165],\n",
    "          [\"Dejan\",   \"m\", 15, 56, 163],\n",
    "          [\"Đorđe\",   \"m\", 13, 45, 159],\n",
    "          [\"Elena\",   \"ž\", 14, 49, 161],\n",
    "          [\"Žaklina\", \"ž\", 15, 52, 164],\n",
    "          [\"Zoran\",   \"m\", 15, 57, 167],\n",
    "          [\"Ivana\",   \"ž\", 13, 45, 158],\n",
    "          [\"Jasna\",   \"ž\", 14, 51, 162]]\n",
    "tabela = pd.DataFrame(podaci)"
   ]
  },
  {
   "cell_type": "markdown",
   "metadata": {},
   "source": [
    "Именуј колоне табеле како је показано у формулацији задатка и индексирај табелу колоном \"Ime\":"
   ]
  },
  {
   "cell_type": "code",
   "execution_count": null,
   "metadata": {},
   "outputs": [],
   "source": []
  },
  {
   "cell_type": "markdown",
   "metadata": {},
   "source": [
    "Прикажи масу деце у групи графиконом тако да имена деце буду на хоризонталној оси:"
   ]
  },
  {
   "cell_type": "code",
   "execution_count": null,
   "metadata": {},
   "outputs": [],
   "source": [
    "import matplotlib.pyplot as plt\n",
    "plt.figure(figsize=(10,5))\n",
    "plt.bar(???, ???) # <--- уместо упитника унеси одговарајуће групе података\n",
    "plt.title(\"Masa dece u grupi\")\n",
    "plt.show()"
   ]
  },
  {
   "cell_type": "markdown",
   "metadata": {},
   "source": [
    "## 7.2. Рачун по врстама и колонама табеле"
   ]
  },
  {
   "cell_type": "markdown",
   "metadata": {},
   "source": [
    "### Задатак.\n",
    "\n",
    "У ћелији испод дате су оцене неких ученика из информатике, енглеског, математике, физике, хемије и ликовног:"
   ]
  },
  {
   "cell_type": "code",
   "execution_count": null,
   "metadata": {},
   "outputs": [],
   "source": [
    "razred = [[\"Ana\",     5, 3, 5, 2, 4, 5],\n",
    "          [\"Bojan\",   5, 5, 5, 5, 5, 5],\n",
    "          [\"Vlada\",   4, 5, 3, 4, 5, 4],\n",
    "          [\"Gordana\", 5, 5, 5, 5, 5, 5],\n",
    "          [\"Dejan\",   3, 4, 2, 3, 3, 4],\n",
    "          [\"Đorđe\",   4, 5, 3, 4, 5, 4],\n",
    "          [\"Elena\",   3, 3, 3, 4, 2, 3],\n",
    "          [\"Žaklina\", 5, 5, 4, 5, 4, 5],\n",
    "          [\"Zoran\",   4, 5, 4, 4, 3, 5],\n",
    "          [\"Ivana\",   2, 2, 2, 2, 2, 5],\n",
    "          [\"Jasna\",   3, 4, 5, 4, 5, 5]]"
   ]
  },
  {
   "cell_type": "markdown",
   "metadata": {},
   "source": [
    "Од ових података направи табелу чије колоне ће се звати \"Ime\", \"Informatika\", \"Engleski\", \"Matematika\", \"Fizika\", \"Hemija\", \"Likovno\" и која ће бити индексирана по колони \"Ime\":"
   ]
  },
  {
   "cell_type": "code",
   "execution_count": null,
   "metadata": {},
   "outputs": [],
   "source": []
  },
  {
   "cell_type": "markdown",
   "metadata": {},
   "source": [
    "За сваки од предмета израчунај просечну оцену:"
   ]
  },
  {
   "cell_type": "code",
   "execution_count": null,
   "metadata": {},
   "outputs": [],
   "source": []
  },
  {
   "cell_type": "markdown",
   "metadata": {},
   "source": [
    "За сваког ученика израчунај просечну оцену:"
   ]
  },
  {
   "cell_type": "code",
   "execution_count": null,
   "metadata": {
    "scrolled": true
   },
   "outputs": [],
   "source": []
  },
  {
   "cell_type": "markdown",
   "metadata": {},
   "source": [
    "### Задатак.\n",
    "\n",
    "Ево трошкова живота једне породице током једне године, по месецима (сви износи су представљени у динарима):\n",
    "  \n",
    "  | Stavka | Jan | Feb | Mar | Apr | Maj | Jun | Jul | Avg | Sep | Okt | Nov | Dec |\n",
    "  |--------|-----|-----|-----|-----|-----|-----|-----|-----|-----|-----|-----|-----|\n",
    "  | Stanarina | 8.251 | 8.436 | 8.524 | 8.388 | 8.241 | 8.196 | 8.004 | 7.996 | 7.991 | 8.015 | 8.353 | 8.456 |\n",
    "  | Struja | 4.321 | 4.530 | 4.115 | 3.990 | 3.985 | 3.726 | 3.351 | 3.289 | 3.295 | 3.485 | 3.826 | 3.834 |\n",
    "  | Telefon (fiksni) | 1.425 | 1.538 | 1.623 | 1.489 | 1.521 | 1.485 | 1.491 | 1.399 | 1.467 | 1.531 | 1.410 | 1.385 |\n",
    "  | Telefon (mobilni) | 2.181 | 2.235 | 2.073 | 1.951 | 1.989 | 1.945 | 3.017 | 2.638 | 2.171 | 1.831 | 1.926 | 1.833 |\n",
    "  | TV i internet | 2.399 | 2.399 | 2.399 | 2.399 | 2.399 | 2.399 | 2.399 | 2.399 | 2.399 | 2.399 | 2.399 | 2.399  |\n",
    "  | Prevoz | 1.830 | 1.830 | 1.830 | 1.830 | 1.950 | 1.950 | 1.450 | 1.450 | 1.950 | 1.950 | 2.050 | 2.050 |\n",
    "  | Hrana | 23.250 | 23.780 | 24.019 | 24.117 | 24.389 | 24.571 | 24.736 | 24.951 | 25.111 | 25.389 | 25.531 | 25.923 |\n",
    "  | Ostalo | 4.500 | 3.700 | 5.100 | 3.500 | 2.750 | 4.250 | 7.320 | 8.250 | 3.270 | 4.290 | 3.200 | 8.390 |\n",
    "\n",
    "У ћелији испод су исти подаци представљени листом:"
   ]
  },
  {
   "cell_type": "code",
   "execution_count": null,
   "metadata": {},
   "outputs": [],
   "source": [
    "troskovi = [\n",
    "  [\"Stanarina\", 8251, 8436, 8524, 8388, 8241, 8196, 8004, 7996, 7991, 8015, 8353, 8456],\n",
    "  [\"Struja\", 4321, 4530, 4115, 3990, 3985, 3726, 3351, 3289, 3295, 3485, 3826, 3834],\n",
    "  [\"Telefon (fiksni)\", 1425, 1538, 1623, 1489, 1521, 1485, 1491, 1399, 1467, 1531, 1410, 1385],\n",
    "  [\"Telefon (mobilni)\", 2181, 2235, 2073, 1951, 1989, 1945, 3017, 2638, 2171, 1831, 1926, 1833],\n",
    "  [\"TV i internet\", 2399, 2399, 2399, 2399, 2399, 2399, 2399, 2399, 2399, 2399, 2399, 2399 ],\n",
    "  [\"Prevoz\", 1830, 1830, 1830, 1830, 1950, 1950, 1450, 1450, 1950, 1950, 2050, 2050],\n",
    "  [\"Hrana\", 23250, 23780, 24019, 24117, 24389, 24571, 24736, 24951, 25111, 25389, 25531, 25923],\n",
    "  [\"Ostalo\", 4500, 3700, 5100, 3500, 2750, 4250, 7320, 8250, 3270, 4290, 3200, 8390]\n",
    "]"
   ]
  },
  {
   "cell_type": "markdown",
   "metadata": {},
   "source": [
    "*(а)* Представи табелу структуром *DataFrame*. Индексирај табелу."
   ]
  },
  {
   "cell_type": "code",
   "execution_count": null,
   "metadata": {},
   "outputs": [],
   "source": []
  },
  {
   "cell_type": "markdown",
   "metadata": {},
   "source": [
    "*(б)* Израчунај и испиши *просечну* потрошњу ове породице по ставкама (колико је породица просечно потрошила на станарину, колико на струју, итд)."
   ]
  },
  {
   "cell_type": "code",
   "execution_count": null,
   "metadata": {},
   "outputs": [],
   "source": []
  },
  {
   "cell_type": "markdown",
   "metadata": {},
   "source": [
    "### Задатак.\n",
    "\n",
    "Ученици осмог разреда једне школе су анкетирани о томе коју врсту филмова најрадије гледају. Подаци анкете су дати у следећој табели (у коју нису унети неважећи и бесмислени одговори):\n",
    "\n",
    "| Žanr | 8-1 | 8-2 | 8-3 | 8-4 | 8-5 |\n",
    "|------|-----|-----|-----|-----|-----|\n",
    "| Komedija | 4 | 3 | 5 | 2 | 3 |\n",
    "| Horor | 1 | 0 | 2 | 1 | 6 |\n",
    "| Naučna fantastika | 10 | 7 | 9 | 8 | 9 |\n",
    "| Avanture | 4 | 3 | 4 | 2 | 2 |\n",
    "| Istorijski | 1 | 0 | 2 | 0 | 0 |\n",
    "| Romantični | 11 | 10 | 7 | 9 | 8 |"
   ]
  },
  {
   "cell_type": "markdown",
   "metadata": {},
   "source": [
    "*(а)* Формирај одговарајућу табелу позивом функције *DataFrame*. Индексирај табелу колоном \"Žanr\"."
   ]
  },
  {
   "cell_type": "code",
   "execution_count": null,
   "metadata": {},
   "outputs": [],
   "source": []
  },
  {
   "cell_type": "markdown",
   "metadata": {},
   "source": [
    "*(б)* Израчунај и испиши колико гласова је добио сваки од наведених жанрова."
   ]
  },
  {
   "cell_type": "code",
   "execution_count": null,
   "metadata": {},
   "outputs": [],
   "source": []
  },
  {
   "cell_type": "markdown",
   "metadata": {},
   "source": [
    "*(в)* За свако одељење израчунај и испиши колико је било валидних гласова."
   ]
  },
  {
   "cell_type": "code",
   "execution_count": null,
   "metadata": {},
   "outputs": [],
   "source": []
  },
  {
   "cell_type": "markdown",
   "metadata": {},
   "source": [
    "*(г)* Колико је укупно ученика осмих разреда учествовало у анкетирању? (Рачунамо само ученике који су дали валидне одговоре на анкету.)"
   ]
  },
  {
   "cell_type": "code",
   "execution_count": null,
   "metadata": {},
   "outputs": [],
   "source": []
  },
  {
   "cell_type": "markdown",
   "metadata": {},
   "source": [
    "### Задатак*.\n",
    "\n",
    "Нутритивни подаци за неке намирнице су дати у следећој табели:\n",
    "\n",
    "| Namirnica (100g) | Energetska vrednost (kcal) | Ugljeni hidrati (g) | Belančevine (g) | Masti (g) |\n",
    "|--|--|--|--|--|\n",
    "| Crni hleb | 250 | 48,2 | 8,4 | 1,0 |\n",
    "| Beli hleb | 280 | 57,5 | 6,8 | 0,5 |\n",
    "| Kisela pavlaka (10% m.m.) | 127 | 4,0 | 3,1 | 10,5 |\n",
    "| Margarin | 532 | 4,6 | 3,2 | 1,5 |\n",
    "| Jogurt | 48 | 4,7 | 4,0 | 3,3 |\n",
    "| Mleko (2,8% m.m.) | 57 | 4,7 | 3,3 | 2,8 |\n",
    "| Salama parizer | 523 | 1,0 | 17,0 | 47,0 |\n",
    "| Pršuta | 268 | 0,0 | 25,5 | 18,4 |\n",
    "| Pileća prsa | 110 | 0,0 | 23,1 | 1,2 |\n",
    "\n",
    "У ћелији испод ови подаци су припремљени у облику индексиране *DataFrame* структуре (са скраћеним именима):"
   ]
  },
  {
   "cell_type": "code",
   "execution_count": null,
   "metadata": {},
   "outputs": [],
   "source": [
    "namirnice = pd.DataFrame([\n",
    "    [\"Chleb\", 250, 48.2, 8.4, 1.0],\n",
    "    [\"Bhleb\", 280, 57.5, 6.8, 0.5],\n",
    "    [\"Pavlaka\", 127, 4.0, 3.1, 10.5],\n",
    "    [\"Margarin\", 532, 4.6, 3.2, 1.5],\n",
    "    [\"Jogurt\", 48, 4.7, 4.0, 3.3],\n",
    "    [\"Mleko\", 57, 4.7, 3.3, 2.8],\n",
    "    [\"Parizer\", 523, 1.0, 17.0, 47.0],\n",
    "    [\"Pršuta\", 268, 0.0, 25.5, 18.4],\n",
    "    [\"PilPrsa\", 110, 0.0, 23.1, 1.2]])\n",
    "namirnice.columns=[\"Namirnica\", \"EnergVr\", \"UH\", \"Bel\", \"Masti\"]\n",
    "namirnice1 = namirnice.set_index(\"Namirnica\")"
   ]
  },
  {
   "cell_type": "markdown",
   "metadata": {},
   "source": [
    "*(а)* Милош је за доручак појео два парчета белог хлеба и попио шољу млека. Свако парче хлеба је било намазано павлаком и имало је један шнит пршуте. Колика је енергетска вредност Милошевог доручка (у kcal), ако претпоставимо да једно парче хлеба има 100 г, да је за мазање једног парчета хлеба довољно 10 г премаза, да један шнит пршуте има 20г и да шоља млека има 2 дл (што је приближно 200 г)?"
   ]
  },
  {
   "cell_type": "code",
   "execution_count": null,
   "metadata": {},
   "outputs": [],
   "source": []
  },
  {
   "cell_type": "markdown",
   "metadata": {},
   "source": [
    "*(б)* Колико грама масти је било у Милошевом доручку?"
   ]
  },
  {
   "cell_type": "code",
   "execution_count": null,
   "metadata": {},
   "outputs": [],
   "source": []
  },
  {
   "cell_type": "markdown",
   "metadata": {},
   "source": [
    "*(в)* Прикажи дијаграмом количину угљених хидрата у намирницама наведеним у табели."
   ]
  },
  {
   "cell_type": "code",
   "execution_count": null,
   "metadata": {},
   "outputs": [],
   "source": []
  },
  {
   "cell_type": "markdown",
   "metadata": {},
   "source": [
    "### Задатак*.\n",
    "\n",
    "У табели испод су дати подаци о продаји неких производа у пет пословних јединица једне компаније (бројеви представљају број продатих комада у једном месецу):\n",
    "\n",
    "| Proizvod       | PJ1 | PJ2 | PJ3 | PJ4 | PJ5 |\n",
    "|----------------|-----|-----|-----|-----|-----|\n",
    "| Cipele         |  5  | 17  |  3  | 11  |  9  |\n",
    "| Košulja         |  8  |  6  |  7  |  4  |  0  |\n",
    "| Kaiš           |  4  |  1  |  3  |  5  |  1  |\n",
    "| Pantalone      |  4  |  2  |  6  |  4  |  5  |\n",
    "| Čarape (par)   |  8  |  9  |  7  |  4  |  9  |\n",
    "| Kravata        |  1  |  0  |  3  |  2  |  4  |\n",
    "\n",
    "Следећа табела садржи цене ових производа у динарима:\n",
    "\n",
    "| Proizvod       | Cena (din) |\n",
    "|----------------|------------|\n",
    "| Cipele         |  11.250  |\n",
    "| Košulja         |   6.500  |\n",
    "| Kaiš           |   4.750  |\n",
    "| Pantalone      |   2.500  |\n",
    "| Čarape (par)   |     750  |\n",
    "| Kravata        |   3.500  |\n",
    "\n",
    "Ћелија испод садржи податке из ове две табеле представљене у облику листе:"
   ]
  },
  {
   "cell_type": "code",
   "execution_count": null,
   "metadata": {},
   "outputs": [],
   "source": [
    "proizvodi = [\n",
    "    [\"Cipele\",         5, 17,  3, 11,  9],\n",
    "    [\"Košulja\",         8,  6,  7,  4,  0],\n",
    "    [\"Kaiš\",           4,  1,  3,  5,  1],\n",
    "    [\"Pantalone\",      4,  2,  6,  4,  5],\n",
    "    [\"Čarape (par)\",   8,  9,  7,  4,  9],\n",
    "    [\"Kravata\",        1,  0,  3,  2,  4]]\n",
    "cene = [\n",
    "    [\"Cipele\",         11250],\n",
    "    [\"Košulja\",          6500],\n",
    "    [\"Kaiš\",            4750],\n",
    "    [\"Pantalone\",       2500],\n",
    "    [\"Čarape (par)\",     750],\n",
    "    [\"Kravata\",         3500]]"
   ]
  },
  {
   "cell_type": "markdown",
   "metadata": {},
   "source": [
    "*(а)* Представи обе табеле структуром *DataFrame*. Индексирај обе табеле."
   ]
  },
  {
   "cell_type": "code",
   "execution_count": null,
   "metadata": {},
   "outputs": [],
   "source": []
  },
  {
   "cell_type": "markdown",
   "metadata": {},
   "source": [
    "*(б)* Израчунај колико је укупно у том месецу продато ципела, кошуља, каишева, панталона, чарапа и кравата."
   ]
  },
  {
   "cell_type": "code",
   "execution_count": null,
   "metadata": {},
   "outputs": [],
   "source": []
  },
  {
   "cell_type": "markdown",
   "metadata": {},
   "source": [
    "*(в)* Израчунај колико је у том месецу компанија зарадила на продаји ципела, колико на продаји кошуља, колико на продаји каишева, итд."
   ]
  },
  {
   "cell_type": "code",
   "execution_count": null,
   "metadata": {},
   "outputs": [],
   "source": []
  },
  {
   "cell_type": "markdown",
   "metadata": {},
   "source": [
    "*(г*)* Израчунај и испиши зараду сваке пословне јединице у том месецу."
   ]
  },
  {
   "cell_type": "code",
   "execution_count": null,
   "metadata": {},
   "outputs": [],
   "source": []
  },
  {
   "cell_type": "markdown",
   "metadata": {},
   "source": [
    "## 7.3. Транспоновање табеле\n",
    "\n",
    "Замена врста и колона табеле се зове *транспоновање*. Приликом транспоновања имена колона полазне табеле постају индекси нове табеле, док индексна колона полазне табеле одређује имена колона нове табеле:\n",
    "\n",
    "![Транспоновање](slike/DataFrame-T.jpg)"
   ]
  },
  {
   "cell_type": "markdown",
   "metadata": {},
   "source": [
    "### Задатак.\n",
    "\n",
    "У фолдеру *podaci* се налази датотека *TemperaturneAnomalije.csv* која садржи податке о томе за колико степени Целзијуса је средња измерена температура на Земљи већа од оптималне у последњих 40 година. Ова табела има два дугачка реда који изгледају овако:\n",
    "\n",
    "    1977,1978,1979,1980,1981,...\n",
    "    0.22,0.14,0.15,0.3,0.37,...\n",
    "\n",
    "У првом реду се налазе године (1977-2017), а у другом измерена температурна аномалија. Табела нема заглавље.\n",
    "\n",
    "*(а)* Учитај табелу у структуру *DataFrame* користећи функцију `read_csv` из библиотеке `pandas`. (Напомена: када табела нема заглавље у функцији за учитавање треба навести опцију `header=None`.)"
   ]
  },
  {
   "cell_type": "code",
   "execution_count": null,
   "metadata": {},
   "outputs": [],
   "source": []
  },
  {
   "cell_type": "markdown",
   "metadata": {},
   "source": [
    "*(б)* Транспонуј табелу и колоне транспоноване табеле назови \"Godina\" i \"Anomalija\"."
   ]
  },
  {
   "cell_type": "code",
   "execution_count": null,
   "metadata": {},
   "outputs": [],
   "source": []
  },
  {
   "cell_type": "markdown",
   "metadata": {},
   "source": [
    "*(в)* Индексирај табелу колоном \"Godina\"."
   ]
  },
  {
   "cell_type": "code",
   "execution_count": null,
   "metadata": {},
   "outputs": [],
   "source": []
  },
  {
   "cell_type": "markdown",
   "metadata": {},
   "source": [
    "*(г)* Прикажи температурне аномалије дијаграмом."
   ]
  },
  {
   "cell_type": "code",
   "execution_count": null,
   "metadata": {},
   "outputs": [],
   "source": []
  },
  {
   "cell_type": "markdown",
   "metadata": {},
   "source": [
    "### Задатак.\n",
    "\n",
    "У фолдеру *podaci* се налази датотека *StanovnistvoSrbije2017.csv* (која има заглавље). Табела има три колоне које се зову \"Starost\", \"M\" и \"Ž\".\n",
    "\n",
    "*(а)* Учитај датотеку у структуру података *DataFrame* и индексирај табелу колоном \"Starost\"."
   ]
  },
  {
   "cell_type": "code",
   "execution_count": null,
   "metadata": {},
   "outputs": [],
   "source": []
  },
  {
   "cell_type": "markdown",
   "metadata": {},
   "source": [
    "*(б)* Прикажи процењени број мушкараца и жена по старости линијским дијаграмом."
   ]
  },
  {
   "cell_type": "code",
   "execution_count": null,
   "metadata": {},
   "outputs": [],
   "source": []
  },
  {
   "cell_type": "markdown",
   "metadata": {},
   "source": [
    "*(в)* На основу података из табеле израчунај колики је процењени број становника у следећим старосним групама:\n",
    "\n",
    "* 0--17 година,\n",
    "* 18--65 година, и\n",
    "* 66 и више година,\n",
    "\n",
    "и представи ова три податка секторским дијаграмом. (Упутство: следећи израз може бити од помоћи: `tabela.loc[\"0\":\"17\", \"M\":\"Ž\"]`)"
   ]
  },
  {
   "cell_type": "code",
   "execution_count": null,
   "metadata": {},
   "outputs": [],
   "source": []
  }
 ],
 "metadata": {
  "kernelspec": {
   "display_name": "Python 3",
   "language": "python",
   "name": "python3"
  },
  "language_info": {
   "codemirror_mode": {
    "name": "ipython",
    "version": 3
   },
   "file_extension": ".py",
   "mimetype": "text/x-python",
   "name": "python",
   "nbconvert_exporter": "python",
   "pygments_lexer": "ipython3",
   "version": "3.7.7"
  }
 },
 "nbformat": 4,
 "nbformat_minor": 2
}
