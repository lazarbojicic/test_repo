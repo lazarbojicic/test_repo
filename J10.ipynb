{
 "cells": [
  {
   "cell_type": "markdown",
   "metadata": {},
   "source": [
    "# Вежба 10. Џупитер и Ексел\n",
    "\n",
    "У овој вежби ћемо утврдити:\n",
    "1. учитавање података из Ексел датотеке; и\n",
    "2. уписивање података у Ексел датотеку."
   ]
  },
  {
   "cell_type": "markdown",
   "metadata": {},
   "source": [
    "## 10.1. Учитавање података из локалних Ексел датотека\n",
    "\n",
    "Библиотека `pandas` има функцију `read_excel` која може да учита Ексел датотеку у структуру података *DataFrame*. Један Ексел документ се састоји из неколико *радних листова* (енгл. *work sheets*) па функцији за учитавање Ексел табеле поред имена датотеке треба дати и име радног листа са кога се учитава табела.\n",
    "\n",
    "\n",
    "### Задатак.\n",
    "\n",
    "Из датотеке *Aditivi.xlsx* која се налази у фолдеру *podaci* учитај табелу из (јединог) радног листа \"Адитиви\". Постави одговарајућу вредност опције `na_filter` како бисмо искључили употребу уместо специјалне вредности *NaN*:"
   ]
  },
  {
   "cell_type": "code",
   "execution_count": null,
   "metadata": {},
   "outputs": [],
   "source": [
    "import pandas as pd\n",
    "aditivi = pd.read_excel(???, sheet_name=???, na_filter=???) # <--- унеси одговарајуће податке уместо упитника"
   ]
  },
  {
   "cell_type": "markdown",
   "metadata": {},
   "source": [
    "Ова датотека садржи податке о адитивима, што су супстанце које се користе у индустрији. Неки од њих се користе и у индустрији хране. (Подаци су преузети из уџбеника биологије за 8. разред.)\n",
    "\n",
    "Прикажи првих неколико редова табеле:"
   ]
  },
  {
   "cell_type": "code",
   "execution_count": null,
   "metadata": {},
   "outputs": [],
   "source": []
  },
  {
   "cell_type": "markdown",
   "metadata": {},
   "source": [
    "Направи фреквенцијску анализу ове табеле на основу штетности адитива:"
   ]
  },
  {
   "cell_type": "code",
   "execution_count": null,
   "metadata": {},
   "outputs": [],
   "source": []
  },
  {
   "cell_type": "markdown",
   "metadata": {},
   "source": [
    "Профилтрираћемо табелу тако да излисташ адитиве који могу изазвати рак:"
   ]
  },
  {
   "cell_type": "code",
   "execution_count": null,
   "metadata": {},
   "outputs": [],
   "source": []
  },
  {
   "cell_type": "markdown",
   "metadata": {},
   "source": [
    "Излистај адитиве који су изузетно опасни *или* могу изазвати рак. Логички везник \"или\" се у библиотеци `pandas` означава симболом `|`."
   ]
  },
  {
   "cell_type": "code",
   "execution_count": null,
   "metadata": {},
   "outputs": [],
   "source": []
  },
  {
   "cell_type": "markdown",
   "metadata": {},
   "source": [
    "### Задатак.\n",
    "\n",
    "У табели `podaci/Cricket.xlsx` се налазе подаци о најбољим играчима крикета. Ова табела има заглавље."
   ]
  },
  {
   "cell_type": "markdown",
   "metadata": {},
   "source": [
    "*(а)* Учитај ову табелу у структуру података *DataFrame* и испиши првих неколико редова табеле да видиш како изгледа. Индексирај табелу колоном \"Player\"."
   ]
  },
  {
   "cell_type": "code",
   "execution_count": null,
   "metadata": {},
   "outputs": [],
   "source": []
  },
  {
   "cell_type": "markdown",
   "metadata": {},
   "source": [
    "*(б)* Додај табели нову колону \"YP\" (*Years Played*) и у њу упиши колико година је сваки играч био активан. (За сваког играча од године у колони \"To\" одузети годину у колони \"From\")."
   ]
  },
  {
   "cell_type": "code",
   "execution_count": null,
   "metadata": {},
   "outputs": [],
   "source": []
  },
  {
   "cell_type": "markdown",
   "metadata": {},
   "source": [
    "*(в)* Додај табели нову колону \"ARY\" (*Average Runs per Year*) и у њу упиши количник бројева из колоне \"Runs\" и \"YP\". (ARY = Runs / YP)."
   ]
  },
  {
   "cell_type": "code",
   "execution_count": null,
   "metadata": {},
   "outputs": [],
   "source": []
  },
  {
   "cell_type": "markdown",
   "metadata": {},
   "source": [
    "*(г)* Сортирај табелу по колони \"ARY\" од највећих ка најмањим вредностима и прикажи првих 25 редова табеле. У ком веку су били активни скоро сви од ових 25 играча? Шта мислиш зашто?"
   ]
  },
  {
   "cell_type": "code",
   "execution_count": null,
   "metadata": {},
   "outputs": [],
   "source": []
  },
  {
   "cell_type": "markdown",
   "metadata": {},
   "source": [
    "## 10.3. Уписивање табеле у Ексел датотеку\n",
    "\n",
    "Податке можемо да упишемо у Ексел датотеку фунцкијом `to_excel` библиотеке `pandas`.\n",
    "\n",
    "### Задатак.\n",
    "\n",
    "У следећпој ћелији је формирана табела опасних адитива:"
   ]
  },
  {
   "cell_type": "code",
   "execution_count": null,
   "metadata": {},
   "outputs": [],
   "source": [
    "opasni_aditivi = aditivi[(aditivi.Напомена == \"може изазвати рак\") | (aditivi.Штетност == \"ИЗУЗЕТНО ОПАСАН\")]"
   ]
  },
  {
   "cell_type": "markdown",
   "metadata": {},
   "source": [
    "Упиши је у Ексел датотеку \"podaci/opasni_aditivi.xlsx\". Води рачуна о томе да је табела ћирилична па је потребно употребити одговарајући систем кодирања симбола. Осим тога, индексну колону не желимо да упишемо у Ексел датотеку."
   ]
  },
  {
   "cell_type": "code",
   "execution_count": null,
   "metadata": {},
   "outputs": [],
   "source": [
    "opasni_aditivi.to_excel(???, encoding=???, index=???) # <--- унеси одговарајуче вредности"
   ]
  },
  {
   "cell_type": "markdown",
   "metadata": {},
   "source": [
    "### Задатак. \n",
    "\n",
    "У табели `podaci/SO2.xlsx` налазе се резултати мерења концентрације сумпор-диоксида у 2017. години у неким градовима Србије. Табела има четири колоне:\n",
    "\n",
    "* МернаСтаница = Мерна станица\n",
    "* СГВ = Средња годишња вредност у микрограмима по кубном метру\n",
    "* БД125 = Број дана са више од 125 микрограма по кубном метру\n",
    "* МДВ = Максимална дневна вредност у микрограмима по кубном метру\n",
    "\n",
    "*(а)* Учитај ову табелу у структуру података *DataFrame*."
   ]
  },
  {
   "cell_type": "code",
   "execution_count": null,
   "metadata": {},
   "outputs": [],
   "source": []
  },
  {
   "cell_type": "markdown",
   "metadata": {},
   "source": [
    "*(б)* Сортирај подаке по колони МДВ и прикажи вредности у овој колони хистограмом."
   ]
  },
  {
   "cell_type": "code",
   "execution_count": null,
   "metadata": {},
   "outputs": [],
   "source": []
  },
  {
   "cell_type": "markdown",
   "metadata": {},
   "source": [
    "*(в)* Издвој из табеле оне редове код којих је вредност у колони БД125 већа од 0 и тако добијену табелу упиши у нову датотеку *podaci/SO2-VisokeVrednosti.xlsx* водећи рачуна о томе да табела садржи слова специфична за српски језик."
   ]
  },
  {
   "cell_type": "code",
   "execution_count": null,
   "metadata": {},
   "outputs": [],
   "source": []
  },
  {
   "cell_type": "markdown",
   "metadata": {},
   "source": [
    "### Задатак.\n",
    "\n",
    "У табели `podaci/Razred.xlsx` налазе се оцене ученика једног разреда из информатике. Подаци су реални, па су зато анонимизирани (имена ученика су Učenik 1, Učenik 2, итд). Табела има заглавље, а текст је унет *латиничним писмом*.\n",
    "\n",
    "*(а)* Учитај ову табелу у структуру података *DataFrame* и прикажи првих неколико редова да разумеш структуру табеле."
   ]
  },
  {
   "cell_type": "code",
   "execution_count": null,
   "metadata": {},
   "outputs": [],
   "source": []
  },
  {
   "cell_type": "markdown",
   "metadata": {},
   "source": [
    "(Колоне означене са \"K\" представљају оцене из контролног задатка, колоне означене са \"P\" представљају оцену из писменог задатка (ово је латинично слово П), колоне означене са \"U\" представљају оцену из усмене провере, а колона \"D\" оцену из домаћих задатака.)\n",
    "\n",
    "*(б)* Индексирај табелу колоном \"Ime\"."
   ]
  },
  {
   "cell_type": "code",
   "execution_count": null,
   "metadata": {},
   "outputs": [],
   "source": []
  },
  {
   "cell_type": "markdown",
   "metadata": {},
   "source": [
    "*(в)* Израчунај и испиши просечну оцену на сваком од три писмена задатка (колоне \"P1\", \"P2\" и \"P3\")."
   ]
  },
  {
   "cell_type": "code",
   "execution_count": null,
   "metadata": {},
   "outputs": [],
   "source": []
  },
  {
   "cell_type": "markdown",
   "metadata": {},
   "source": [
    "*(г)* Додај табели нову колону \"Prosek\" и онда за сваког ученика израчунај просек оцена и упиши добијену вредност у ову колону табеле."
   ]
  },
  {
   "cell_type": "code",
   "execution_count": null,
   "metadata": {},
   "outputs": [],
   "source": []
  },
  {
   "cell_type": "markdown",
   "metadata": {},
   "source": [
    "*(д)* Додај табели нову колону \"Ocena\" и онда за сваког ученика израчунај закључну оцену на основу просека, и упиши ту оцену у ову колону табеле. Следећа функција ти може бити корисна:"
   ]
  },
  {
   "cell_type": "code",
   "execution_count": null,
   "metadata": {},
   "outputs": [],
   "source": [
    "def zaklj_ocena(prosek):\n",
    "    if prosek >= 4.50:\n",
    "        return 5\n",
    "    elif prosek >= 3.50:\n",
    "        return 4\n",
    "    elif prosek >= 2.50:\n",
    "        return 3\n",
    "    elif prosek >= 1.50:\n",
    "        return 2\n",
    "    else:\n",
    "        return 1"
   ]
  },
  {
   "cell_type": "code",
   "execution_count": null,
   "metadata": {},
   "outputs": [],
   "source": []
  },
  {
   "cell_type": "markdown",
   "metadata": {},
   "source": [
    "*(ђ)* Добијену табелу упиши у нову датотеку *podaci/Razred-Ocene.xlsx* водећи рачуна о томе да табела садржи слова специфична за српски језик."
   ]
  },
  {
   "cell_type": "code",
   "execution_count": null,
   "metadata": {},
   "outputs": [],
   "source": []
  }
 ],
 "metadata": {
  "kernelspec": {
   "display_name": "Python 3",
   "language": "python",
   "name": "python3"
  },
  "language_info": {
   "codemirror_mode": {
    "name": "ipython",
    "version": 3
   },
   "file_extension": ".py",
   "mimetype": "text/x-python",
   "name": "python",
   "nbconvert_exporter": "python",
   "pygments_lexer": "ipython3",
   "version": "3.7.7"
  }
 },
 "nbformat": 4,
 "nbformat_minor": 2
}
